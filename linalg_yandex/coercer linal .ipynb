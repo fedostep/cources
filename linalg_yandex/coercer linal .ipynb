{
 "cells": [
  {
   "cell_type": "code",
   "execution_count": 50,
   "id": "34893153",
   "metadata": {},
   "outputs": [
    {
     "name": "stdout",
     "output_type": "stream",
     "text": [
      "[(0, 0.0), (6, 0.7327387580875756), (4, 0.7770887149698589), (21, 0.8250364469440588), (10, 0.8328165362273942), (12, 0.8396432548525454), (16, 0.8406361854220809), (20, 0.8427572744917122), (2, 0.8644738145642124), (13, 0.8703592552895671), (14, 0.8740118423302576), (11, 0.8804771390665607), (8, 0.8842724875284311), (19, 0.8885443574849294), (3, 0.8951715163278082), (9, 0.9055088817476932), (7, 0.9258750683338899), (5, 0.9402385695332803), (15, 0.9442721787424647), (18, 0.9442721787424647), (1, 0.9527544408738466), (17, 0.956644501523794)]\n"
     ]
    }
   ],
   "source": [
    "import scipy.spatial\n",
    "import numpy as np\n",
    "import re\n",
    "c=[]\n",
    "data = open(\"/Users/fedorstepanov/Downloads/_3a8d746cf4d86fba2f31586f239d11fd_sentences.txt\", \"r\") # открываем\n",
    "sent = data.readlines()   #считываем все строки\n",
    "\n",
    "\n",
    "i = 0\n",
    "for sentence in sent: # берем первую строку\n",
    "    sentence = re.split('[^a-z]', sentence.lower()) # разбиваем на слова\n",
    "    c.append(list(filter(None, sentence))) # убираем пустые слова из первой строки и сохраняем\n",
    "    i += 1\n",
    "\n",
    "word_index = dict() # создаем пустой словарь\n",
    "i = 0 \n",
    "for sentence in c: # берем первую строку\n",
    "    for word in sentence: # берем первое слово в первой строке\n",
    "        if word not in word_index: # если слова нету в словаре то  \n",
    "            word_index[word] = i # добавляем его по индексом 0 в словарь\n",
    "            i += 1 # следующий индекс будет на единицу больше\n",
    "         \n",
    "\n",
    "m = np.zeros((len(c), len(word_index))) # создаем массив размерность строки*слова\n",
    "\n",
    "\n",
    "for sent_i in range(0, len(c)): # смотрим первую строку\n",
    "    for word in c[sent_i]: # смотрим слова в первой строке\n",
    "        word_i = word_index[word] # находим индекс этого слова\n",
    "        m[sent_i][word_i] += 1 # вносим это слово в массив, изначально там нули но как только в стркое нахоидм слово с этим индексов \n",
    "\n",
    "distances =list() # смотрим теперь каждую строку\n",
    "for i in range(0, len(c)):\n",
    "    distance = scipy.spatial.distance.cosine(m[0],m[i]) # считаем косинусную дистанцию\n",
    "    distances.append((i,distance))\n",
    "    \n",
    "sort = sorted(distances,key=lambda tup: tup[1]) # сортируем\n",
    "print(sort)"
   ]
  },
  {
   "cell_type": "code",
   "execution_count": 51,
   "id": "443698e6",
   "metadata": {},
   "outputs": [
    {
     "name": "stdout",
     "output_type": "stream",
     "text": [
      "1 2\n",
      "3\n"
     ]
    }
   ],
   "source": [
    "a=input().split(\" \")\n",
    "b=int(a[0])\n",
    "c=int(a[1])\n",
    "print(b+c)"
   ]
  },
  {
   "cell_type": "code",
   "execution_count": null,
   "id": "cd460903",
   "metadata": {},
   "outputs": [],
   "source": []
  }
 ],
 "metadata": {
  "kernelspec": {
   "display_name": "Python 3",
   "language": "python",
   "name": "python3"
  },
  "language_info": {
   "codemirror_mode": {
    "name": "ipython",
    "version": 3
   },
   "file_extension": ".py",
   "mimetype": "text/x-python",
   "name": "python",
   "nbconvert_exporter": "python",
   "pygments_lexer": "ipython3",
   "version": "3.8.8"
  }
 },
 "nbformat": 4,
 "nbformat_minor": 5
}
