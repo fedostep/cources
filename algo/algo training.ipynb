{
 "cells": [
  {
   "cell_type": "code",
   "execution_count": null,
   "id": "6a73e77e",
   "metadata": {},
   "outputs": [],
   "source": [
    "d, m, _ = map(int, input().split())\n",
    "\n",
    "if d == m:\n",
    "    print(1)\n",
    "elif d in range(1, 13) and m in range(1, 13):\n",
    "    print(0)\n",
    "else:\n",
    "    print(1)\n"
   ]
  },
  {
   "cell_type": "markdown",
   "id": "1b642f46",
   "metadata": {},
   "source": []
  },
  {
   "cell_type": "code",
   "execution_count": null,
   "id": "9bda5ea1",
   "metadata": {},
   "outputs": [],
   "source": []
  }
 ],
 "metadata": {
  "kernelspec": {
   "display_name": "Python 3",
   "language": "python",
   "name": "python3"
  },
  "language_info": {
   "codemirror_mode": {
    "name": "ipython",
    "version": 3
   },
   "file_extension": ".py",
   "mimetype": "text/x-python",
   "name": "python",
   "nbconvert_exporter": "python",
   "pygments_lexer": "ipython3",
   "version": "3.8.8"
  }
 },
 "nbformat": 4,
 "nbformat_minor": 5
}
